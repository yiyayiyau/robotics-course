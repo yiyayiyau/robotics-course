{
 "cells": [
  {
   "cell_type": "markdown",
   "metadata": {},
   "source": [
    "# Generating motions with feature and pseudoinverse\n",
    "\n",
    "Let $y = \\phi(q)$ be a feature (a mapping from joint to task space) and $J(q) = \\frac{\\partial\\phi}{\\partial q}$ be a Jacobian. From this mapping, we can relate the joint velocity to the velocity of the feature value, $$\\dot{y} = J(q)\\dot{q}.$$\n",
    "\n",
    "Suppose that we want the feature value to have a particular dynamics $\\dot{y}_d = f(y_d)$, i.e. a desired feature motion. So as to achieve such a feature dynamics, how should the joint move? Such a question might be formalized as an optimization problem: $$\\dot{q}^*=\\text{arg}\\min_{\\dot{\\tilde{q}}}||\\dot{y}_d-J(q)\\dot{\\tilde{q}}||^2.$$ One straightforward answer is from the psuedoinverse:\n",
    "$$\\dot{q}^* = J(q)^+\\dot{y}_d.$$\n",
    "1. When $\\dim(y) < \\dim(q)$ and J has a full row rank, there exist the infinite number of solutions $\\dot{\\tilde{q}}$ that satisfy $\\dot{y}_d = J(q)\\dot{\\tilde{q}}$ and the psuedoinverse formula picks the minimum joint velocity (in the Euclidean sense) among those.\n",
    "2. When $\\dim(y) > \\dim(q)$, no solution exists and the psuedoinverse provides the least-square solution.\n",
    "3. When $\\dim(y) = \\dim(q)$ and J has a full rank, the psuedoinverse reduces to the ordinary inverse.\n",
    "\n",
    "More generally, a weighted Euclidean metric as well as a regularization term can be used to get better numerical stability and deal with edge cases (see the lecture slides!)."
   ]
  },
  {
   "cell_type": "code",
   "execution_count": 1,
   "metadata": {},
   "outputs": [
    {
     "name": "stdout",
     "output_type": "stream",
     "text": [
      "**ry-c++-log** /home/heng/git/robotics-course/rai/rai/ry/ry.cpp:init_LogToPythonConsole:34(0) initializing ry log callback\n",
      "\n"
     ]
    }
   ],
   "source": [
    "import sys\n",
    "sys.path.append('../../build')\n",
    "import libry as ry\n",
    "import numpy as np\n",
    "import time"
   ]
  },
  {
   "cell_type": "code",
   "execution_count": 2,
   "metadata": {},
   "outputs": [],
   "source": [
    "#-- MODEL WORLD configuration, this is the data structure on which you represent\n",
    "# what you know about the world and compute things (controls, contacts, etc)\n",
    "C = ry.Config()\n",
    "C.addFile(\"../../scenarios/pandasTable.g\")\n",
    "D = C.view()\n",
    "q0 = C.getJointState()"
   ]
  },
  {
   "cell_type": "code",
   "execution_count": 4,
   "metadata": {},
   "outputs": [],
   "source": [
    "obj = C.addFrame(\"object\")\n",
    "# set frame parameters, associate a shape to the frame, \n",
    "pos_obj = np.array([1.,0,1.5])\n",
    "pos_obj0 = pos_obj.copy()\n",
    "obj.setPosition(pos_obj)\n",
    "obj.setQuaternion([1,0,0,0])\n",
    "obj.setShape(ry.ST.sphere, [.02])\n",
    "obj.setColor([1,0,0])"
   ]
  },
  {
   "cell_type": "markdown",
   "metadata": {},
   "source": [
    "## Tracking an object\n",
    "\n",
    "Suppose the feature $\\phi$ is a mapping to the position difference between the gripper and the object (case 1 above). If this feature space is endowed with a stable dynamics, e.g., $\\dot{y}=-y$, corresponding joint motions will let the gripper position to approach to the object (i.e., the position difference converges to 0). The following code exactly does that."
   ]
  },
  {
   "cell_type": "code",
   "execution_count": 7,
   "metadata": {},
   "outputs": [],
   "source": [
    "tau = .01\n",
    "obj.setPosition(pos_obj)\n",
    "C.setJointState(q0)\n",
    "q = C.getJointState()\n",
    "for t in range(1000):\n",
    "    time.sleep(0.01)\n",
    "    pos_obj[0] = 1 - np.sin(0.01*t) #move the obj for fun!\n",
    "    obj.setPosition(pos_obj)\n",
    "\n",
    "    [y,J] = C.evalFeature(ry.FS.positionRel, [\"R_gripperCenter\", \"object\"])\n",
    "\n",
    "    vel_ee = -y\n",
    "    #vel = np.linalg.pinv(J) @ vel_ee; #less stable!\n",
    "    vel = J.T @ np.linalg.inv(J@J.T + 1e-2*np.eye(y.shape[0])) @ vel_ee; #psuedoinverse with a regularization term\n",
    "    #vel = np.linalg.inv(J.T@J + 1e-2*np.eye(q.shape[0])) @ J.T @ vel_ee;\n",
    "\n",
    "    q += tau*vel\n",
    "    C.setJointState(q) #set your robot model to match the real q"
   ]
  },
  {
   "cell_type": "code",
   "execution_count": 8,
   "metadata": {},
   "outputs": [],
   "source": [
    "tau = .01\n",
    "C.setJointState(q0)\n",
    "obj.setPosition(pos_obj0)\n",
    "q = C.getJointState()\n",
    "for t in range(500):\n",
    "    time.sleep(0.01)\n",
    "    \n",
    "    #evaluate a first feature\n",
    "    [y1,J1] = C.evalFeature(ry.FS.positionRel, [\"R_gripperCenter\", \"object\"])\n",
    "    \n",
    "    #you can multiply y1 and J1 here with some number, to increase the importance of the first feature\n",
    "    #evaluate a second feature\n",
    "    [y2,J2] = C.evalFeature(ry.FS.scalarProductXY, [\"R_gripper\",\"world\"])\n",
    "\n",
    "    #you can multiply y2 and J2 here with some number, to increase the importance of the second feature\n",
    "    #stack all tasks\n",
    "    vel_ee = np.block([-y1, 1.-y2])\n",
    "    J = np.block([[J1],[J2]])\n",
    "    \n",
    "#     vel = J.T @ np.linalg.inv(J@J.T + 1e-2*np.eye(y.shape[0])) @ vel_ee;\n",
    "    \n",
    "    vel_ee = np.block([-y1, 1.-y2, np.zeros(q.shape[0])]) #Third \"qItself\" feature is for regularization (small joint velocity)\n",
    "    J = np.block([[J1],[J2],[1e-2*np.eye(q.shape[0])]])\n",
    "    vel =  np.linalg.pinv(J) @ vel_ee;\n",
    "    \n",
    "    ## which is actaully equivalent to this!\n",
    "#     vel =  np.linalg.inv(J.T@J + 1e-2*np.eye(q.shape[0])) @ J.T @ vel_ee;\n",
    "\n",
    "\n",
    "    q += tau*vel\n",
    "    C.setJointState(q) "
   ]
  },
  {
   "cell_type": "markdown",
   "metadata": {},
   "source": [
    "## Circling motion with coordinate transformation \n",
    "\n",
    "The circling motion can be easily made in the polar cordinate, e.g., $$\\dot{r} = 1-r,~\\dot{\\theta}=1.$$\n",
    "So, all we need to do is:\n",
    "1. transform the feature value (again only $(y_1,y_3)$ components, with $\\dot{y}_2=-y_2$) into polar coordinate, $$r=\\sqrt{y_1^2+y_3^2},~\\theta=\\arctan2(y_1,y_3).$$\n",
    "2. compute the desired velocity in polar coordinate, $$\\dot{r} = 1-r,~\\dot{\\theta}=1.$$\n",
    "3. transform it back to the original feature space, $$\\dot{y}_1 = \\dot{r}\\cos\\theta-r\\dot{\\theta}\\sin\\theta,\\\\\n",
    "\\dot{y}_3 = \\dot{r}\\sin\\theta+r\\dot{\\theta}\\cos\\theta.$$\n",
    "(derived from $y_1=r\\cos\\theta, y_3=r\\sin\\theta$)\n",
    "4. take the psuedoinverse to get the joint velocity."
   ]
  },
  {
   "cell_type": "code",
   "execution_count": 14,
   "metadata": {},
   "outputs": [],
   "source": [
    "tau = .01\n",
    "C.setJointState(q0)\n",
    "q = C.getJointState()\n",
    "for t in range(500):\n",
    "    time.sleep(0.01)\n",
    "    \n",
    "    [y,J] = C.evalFeature(ry.FS.positionRel, [\"R_gripperCenter\", \"object\"])\n",
    "    #pos_obj[0] = 1 - np.sin(0.01*t) #move the obj for fun!\n",
    "    obj.setPosition(pos_obj)\n",
    "\n",
    "    # 1. transform to polar coordinate\n",
    "    r = np.sqrt(y[0]**2 + y[2]**2)\n",
    "    theta = np.arctan2(y[2],y[0])\n",
    "\n",
    "    # 2. compute the velocity there (you can change the params of dynamics)\n",
    "    r_dot = 0.2-r\n",
    "    theta_dot = -5.\n",
    "\n",
    "    # 3. transform back to feature space (gripper velocity)\n",
    "    y1_dot = r_dot*np.cos(theta)-r*theta_dot*np.sin(theta)\n",
    "    y3_dot = r_dot*np.sin(theta)+r*theta_dot*np.cos(theta)\n",
    "    \n",
    "    y2_dot = -y[1]\n",
    "\n",
    "    # 4. take the psuedoinverse to get the joint velocity.\n",
    "    vel_ee = np.array([y1_dot, y2_dot, y3_dot])\n",
    "    vel = J.T @ np.linalg.inv(J@J.T + 1e-2*np.eye(y.shape[0])) @ vel_ee;\n",
    "#     vel =  np.linalg.inv(J.T@J + 1e-2*np.eye(q.shape[0])) @ J.T @ vel_ee;\n",
    "    \n",
    "    q += tau*vel\n",
    "    C.setJointState(q) "
   ]
  },
  {
   "cell_type": "code",
   "execution_count": 7,
   "metadata": {},
   "outputs": [],
   "source": [
    "S=0\n",
    "C=0\n",
    "RealWorld=0"
   ]
  }
 ],
 "metadata": {
  "kernelspec": {
   "display_name": "Python 3",
   "language": "python",
   "name": "python3"
  },
  "language_info": {
   "codemirror_mode": {
    "name": "ipython",
    "version": 3
   },
   "file_extension": ".py",
   "mimetype": "text/x-python",
   "name": "python",
   "nbconvert_exporter": "python",
   "pygments_lexer": "ipython3",
   "version": "3.8.5"
  }
 },
 "nbformat": 4,
 "nbformat_minor": 4
}
