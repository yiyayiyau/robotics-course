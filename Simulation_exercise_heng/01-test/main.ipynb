{
 "cells": [
  {
   "cell_type": "markdown",
   "metadata": {},
   "source": [
    "## push test"
   ]
  },
  {
   "cell_type": "code",
   "execution_count": 1,
   "metadata": {},
   "outputs": [
    {
     "name": "stdout",
     "output_type": "stream",
     "text": [
      "**ry-c++-log** /home/jung-su/git/robotics-course/rai/rai/ry/ry.cpp:init_LogToPythonConsole:34(0) initializing ry log callback\n",
      "\n"
     ]
    }
   ],
   "source": [
    "import sys\n",
    "sys.path.append('../../build')\n",
    "import libry as ry\n",
    "import numpy as np\n",
    "import time"
   ]
  },
  {
   "cell_type": "code",
   "execution_count": 2,
   "metadata": {},
   "outputs": [],
   "source": [
    "C = ry.Config()\n",
    "D = C.view()\n",
    "C.addFile(\"model.g\")\n",
    "Xstart = C.getFrameState()"
   ]
  },
  {
   "cell_type": "code",
   "execution_count": 3,
   "metadata": {},
   "outputs": [],
   "source": [
    "S = C.simulation(ry.SimulatorEngine.bullet, True)"
   ]
  },
  {
   "cell_type": "code",
   "execution_count": 4,
   "metadata": {},
   "outputs": [
    {
     "ename": "KeyboardInterrupt",
     "evalue": "",
     "output_type": "error",
     "traceback": [
      "\u001b[0;31m---------------------------------------------------------------------------\u001b[0m",
      "\u001b[0;31mKeyboardInterrupt\u001b[0m                         Traceback (most recent call last)",
      "\u001b[0;32m<ipython-input-4-d26f71eef84b>\u001b[0m in \u001b[0;36m<module>\u001b[0;34m\u001b[0m\n\u001b[1;32m      7\u001b[0m \u001b[0;34m\u001b[0m\u001b[0m\n\u001b[1;32m      8\u001b[0m     \u001b[0;32mfor\u001b[0m \u001b[0mt\u001b[0m \u001b[0;32min\u001b[0m \u001b[0mrange\u001b[0m\u001b[0;34m(\u001b[0m\u001b[0;36m300\u001b[0m\u001b[0;34m)\u001b[0m\u001b[0;34m:\u001b[0m\u001b[0;34m\u001b[0m\u001b[0;34m\u001b[0m\u001b[0m\n\u001b[0;32m----> 9\u001b[0;31m         \u001b[0mS\u001b[0m\u001b[0;34m.\u001b[0m\u001b[0mstep\u001b[0m\u001b[0;34m(\u001b[0m\u001b[0mnp\u001b[0m\u001b[0;34m.\u001b[0m\u001b[0mzeros\u001b[0m\u001b[0;34m(\u001b[0m\u001b[0;36m8\u001b[0m\u001b[0;34m)\u001b[0m\u001b[0;34m,\u001b[0m \u001b[0mtau\u001b[0m\u001b[0;34m)\u001b[0m\u001b[0;34m\u001b[0m\u001b[0;34m\u001b[0m\u001b[0m\n\u001b[0m\u001b[1;32m     10\u001b[0m \u001b[0;34m\u001b[0m\u001b[0m\n\u001b[1;32m     11\u001b[0m         \u001b[0;32mif\u001b[0m \u001b[0mt\u001b[0m\u001b[0;34m%\u001b[0m\u001b[0;36m10\u001b[0m \u001b[0;34m==\u001b[0m \u001b[0;36m0\u001b[0m\u001b[0;34m:\u001b[0m\u001b[0;34m\u001b[0m\u001b[0;34m\u001b[0m\u001b[0m\n",
      "\u001b[0;31mKeyboardInterrupt\u001b[0m: "
     ]
    }
   ],
   "source": [
    "for k in range (1):\n",
    "    #restart from same state multiple times\n",
    "    S.setState(Xstart)\n",
    "\n",
    "    tau = .01\n",
    "    box = C.frame(\"box\")\n",
    "\n",
    "    for t in range(300):\n",
    "        S.step(np.zeros(8), tau)\n",
    "\n",
    "        if t%10 == 0:\n",
    "            S.getImageAndDepth()  #we don't need images with 100Hz, rendering is slow\n",
    "\n",
    "        time.sleep(0.01)\n",
    "\n",
    "        #some good old fashioned IK\n",
    "        q = C.getJointState();\n",
    "        [y,J] = C.evalFeature(ry.FS.positionDiff, [\"gripper\", \"ring\"])\n",
    "        y = y * .005 / np.linalg.norm(y)\n",
    "        q = q - J.T @ np.linalg.inv(J@J.T + 1e-2*np.eye(y.shape[0])) @ y\n",
    "        C.setJointState(q)\n",
    "\n",
    "        if t%100 == 0:\n",
    "            p = box.getPosition()\n",
    "            p[0] += .05\n",
    "            p[2] += .2\n",
    "            box.setPosition(p)\n",
    "            S.setState(C.getFrameState())"
   ]
  },
  {
   "cell_type": "markdown",
   "metadata": {},
   "source": [
    "## grasp test"
   ]
  },
  {
   "cell_type": "code",
   "execution_count": null,
   "metadata": {},
   "outputs": [],
   "source": [
    "import os\n",
    "os._exit(0)"
   ]
  },
  {
   "cell_type": "code",
   "execution_count": 5,
   "metadata": {},
   "outputs": [],
   "source": [
    "import sys\n",
    "sys.path.append('../../build')\n",
    "import libry as ry\n",
    "import numpy as np\n",
    "import time"
   ]
  },
  {
   "cell_type": "code",
   "execution_count": 6,
   "metadata": {},
   "outputs": [],
   "source": [
    "C = ry.Config()\n",
    "D = C.view()\n",
    "C.addFile(\"model.g\")\n",
    "Xstart = C.getFrameState()\n",
    "C.selectJoints([\"finger1\", \"finger2\"], True)"
   ]
  },
  {
   "cell_type": "code",
   "execution_count": 7,
   "metadata": {},
   "outputs": [],
   "source": [
    "#S = C.simulation(ry.SimulatorEngine.physx, True)\n",
    "S = ry.Simulation(C, ry.SimulatorEngine.bullet, True)"
   ]
  },
  {
   "cell_type": "code",
   "execution_count": 8,
   "metadata": {},
   "outputs": [],
   "source": [
    "tau = .01\n",
    "t=0\n",
    "#S.setState(Xstart, [])\n",
    "\n",
    "while True:\n",
    "    t = t+1\n",
    "    \n",
    "    if t%10 == 0:\n",
    "        S.getImageAndDepth()  #we don't need images with 100Hz, rendering is slow\n",
    "\n",
    "    time.sleep(0.01)\n",
    "\n",
    "    q = S.get_q()\n",
    "\n",
    "    #some good old fashioned IK\n",
    "    if t > 40 and t<=300:\n",
    "        #q = C.getJointState()\n",
    "        [y,J] = C.evalFeature(ry.FS.oppose, [\"finger1\", \"finger2\", \"ring4\"])\n",
    "        y = y * min(.008/np.linalg.norm(y), 1.)\n",
    "        q = q - J.T @ np.linalg.inv(J@J.T + 1e-2*np.eye(y.shape[0])) @ y\n",
    "        \n",
    "    if t==300:\n",
    "        S.closeGripper(\"gripper\")\n",
    "        \n",
    "    if S.getGripperIsGrasping(\"gripper\"):\n",
    "        [y,J] = C.evalFeature(ry.FS.position, [\"gripper\"]);\n",
    "        q = q - J.T @ np.linalg.inv(J@J.T + 1e-2*np.eye(y.shape[0])) @ [0.,0.,-2e-4]\n",
    "\n",
    "    if t==900:\n",
    "        S.openGripper(\"gripper\")\n",
    "    \n",
    "    if t>1000 and S.getGripperWidth(\"gripper\")>=.02:\n",
    "        break\n",
    "\n",
    "    S.step(q, tau, ry.ControlMode.position)\n"
   ]
  },
  {
   "cell_type": "code",
   "execution_count": null,
   "metadata": {},
   "outputs": [],
   "source": [
    "S=0\n",
    "D=0\n",
    "C=0"
   ]
  },
  {
   "cell_type": "markdown",
   "metadata": {},
   "source": [
    "## Stack of Blocks Test"
   ]
  },
  {
   "cell_type": "code",
   "execution_count": null,
   "metadata": {},
   "outputs": [],
   "source": [
    "import os\n",
    "os._exit(0)"
   ]
  },
  {
   "cell_type": "code",
   "execution_count": 1,
   "metadata": {},
   "outputs": [
    {
     "name": "stdout",
     "output_type": "stream",
     "text": [
      "**ry-c++-log** /home/jung-su/git/robotics-course/rai/rai/ry/ry.cpp:init_LogToPythonConsole:34(0) initializing ry log callback\n",
      "\n"
     ]
    }
   ],
   "source": [
    "import sys\n",
    "sys.path.append('../../build')\n",
    "import libry as ry\n",
    "import numpy as np\n",
    "import time"
   ]
  },
  {
   "cell_type": "code",
   "execution_count": 2,
   "metadata": {},
   "outputs": [],
   "source": [
    "C = ry.Config()\n",
    "D = C.view()\n",
    "for i in range(7):\n",
    "    obj = C.addFrame(\"obj\"+str(i))\n",
    "    obj.setShape(ry.ST.ssBox, [.2,.2,.2,.02])\n",
    "    obj.setPosition([0,0,1+0.25*i])\n",
    "    obj.setMass(1.)\n",
    "\n",
    "C.addFile(\"../../scenarios/pandasTable.g\")"
   ]
  },
  {
   "cell_type": "code",
   "execution_count": 4,
   "metadata": {},
   "outputs": [
    {
     "name": "stdout",
     "output_type": "stream",
     "text": [
      "**ry-c++-log** /home/jung-su/git/robotics-course/rai/rai/Kin/kin.cpp:getFrame:342(-1) cannot find frame named 'box'\n",
      "\n"
     ]
    }
   ],
   "source": [
    "S = ry.Simulation(C, ry.SimulatorEngine.bullet, True)\n",
    "tau = .01\n",
    "box = C.frame(\"box\")\n",
    "\n",
    "for t in range(400):\n",
    "    S.step([], tau, ry.ControlMode.none)\n",
    "    time.sleep(0.01)"
   ]
  },
  {
   "cell_type": "markdown",
   "metadata": {},
   "source": [
    "## Friction Test"
   ]
  },
  {
   "cell_type": "code",
   "execution_count": null,
   "metadata": {},
   "outputs": [],
   "source": [
    "import os\n",
    "os._exit(0)"
   ]
  },
  {
   "cell_type": "code",
   "execution_count": 1,
   "metadata": {},
   "outputs": [
    {
     "name": "stdout",
     "output_type": "stream",
     "text": [
      "**ry-c++-log** /home/jung-su/git/robotics-course/rai/rai/ry/ry.cpp:init_LogToPythonConsole:34(0) initializing ry log callback\n",
      "\n"
     ]
    }
   ],
   "source": [
    "import sys\n",
    "sys.path.append('../../build')\n",
    "import libry as ry\n",
    "import numpy as np\n",
    "import time"
   ]
  },
  {
   "cell_type": "code",
   "execution_count": 2,
   "metadata": {},
   "outputs": [],
   "source": [
    "C = ry.Config()\n",
    "D = C.view()\n",
    "for i in range(10):\n",
    "    obj = C.addFrame(\"obj\"+str(i))\n",
    "    obj.setShape(ry.ST.ssBox, [.1,.1,.1,.01])\n",
    "    obj.setPosition([.2*(i-5),0,1])\n",
    "    obj.setMass(.2)\n",
    "    obj.addAttribute(\"friction\", .02*i)\n",
    "\n",
    "C.addFile(\"../../scenarios/pandasTable.g\")\n",
    "C.frame(\"table\").setQuaternion([1., -.1, 0., 0.])"
   ]
  },
  {
   "cell_type": "code",
   "execution_count": 3,
   "metadata": {},
   "outputs": [
    {
     "name": "stdout",
     "output_type": "stream",
     "text": [
      "**ry-c++-log** /home/jung-su/git/robotics-course/rai/rai/Kin/kin.cpp:getFrame:342(-1) cannot find frame named 'box'\n",
      "\n"
     ]
    }
   ],
   "source": [
    "S = ry.Simulation(C, ry.SimulatorEngine.bullet, True)\n",
    "tau = .01\n",
    "box = C.frame(\"box\")\n",
    "\n",
    "for t in range(400):\n",
    "    S.step([], tau, ry.ControlMode.none)\n",
    "    time.sleep(0.01)"
   ]
  },
  {
   "cell_type": "code",
   "execution_count": null,
   "metadata": {},
   "outputs": [],
   "source": []
  }
 ],
 "metadata": {
  "kernelspec": {
   "display_name": "Python 3",
   "language": "python",
   "name": "python3"
  },
  "language_info": {
   "codemirror_mode": {
    "name": "ipython",
    "version": 3
   },
   "file_extension": ".py",
   "mimetype": "text/x-python",
   "name": "python",
   "nbconvert_exporter": "python",
   "pygments_lexer": "ipython3",
   "version": "3.6.9"
  }
 },
 "nbformat": 4,
 "nbformat_minor": 4
}
